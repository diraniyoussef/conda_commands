{
 "cells": [
  {
   "cell_type": "code",
   "execution_count": null,
   "metadata": {},
   "outputs": [],
   "source": [
    "#To know the existing environments\n",
    "conda info --envs # or\n",
    "conda env list"
   ]
  },
  {
   "cell_type": "code",
   "execution_count": null,
   "metadata": {},
   "outputs": [],
   "source": [
    "# To activate a particular environment\n",
    "conda activate base # base is the name of my environment"
   ]
  },
  {
   "cell_type": "code",
   "execution_count": null,
   "metadata": {},
   "outputs": [],
   "source": [
    "#To open Jupyter Notebook, simply type in the command prompt :\n",
    "jupyter notebook"
   ]
  },
  {
   "cell_type": "code",
   "execution_count": null,
   "metadata": {},
   "outputs": [],
   "source": [
    "#To open a Jupyter notebook in a Conda environment, \n",
    "# follow this https://stackoverflow.com/questions/37085665/in-which-conda-environment-is-jupyter-executing \n",
    "# but before make sure you have already installed \n",
    "conda install nb_conda\n",
    "# then activate conda in the Terminal, then open jupyter notebook from the terminal, and there you go, you now\n",
    "# have the \"conda\" tab. "
   ]
  },
  {
   "cell_type": "code",
   "execution_count": null,
   "metadata": {},
   "outputs": [],
   "source": [
    "#I had an annoying message when I switch to the conda tab in Jupyter browser, but I solved it using this\n",
    "# https://github.com/Anaconda-Platform/nb_conda/issues/66\n",
    "# nevertheless, the \"Anaconda3\" option went away."
   ]
  },
  {
   "cell_type": "code",
   "execution_count": null,
   "metadata": {},
   "outputs": [],
   "source": [
    "#I was confused why in the conda tab I could only see the root option, but in this particular notebook\n",
    "# I am writing now, I can select the base kernel in the kernel tab. I tested it an it works fine."
   ]
  },
  {
   "cell_type": "code",
   "execution_count": null,
   "metadata": {},
   "outputs": [],
   "source": [
    "# in the base environment\n",
    "pip install tensorflow"
   ]
  },
  {
   "cell_type": "code",
   "execution_count": 1,
   "metadata": {},
   "outputs": [],
   "source": [
    "import tensorflow as tf"
   ]
  },
  {
   "cell_type": "code",
   "execution_count": null,
   "metadata": {},
   "outputs": [],
   "source": []
  }
 ],
 "metadata": {
  "kernelspec": {
   "display_name": "Python (base)",
   "language": "python",
   "name": "base"
  },
  "language_info": {
   "codemirror_mode": {
    "name": "ipython",
    "version": 3
   },
   "file_extension": ".py",
   "mimetype": "text/x-python",
   "name": "python",
   "nbconvert_exporter": "python",
   "pygments_lexer": "ipython3",
   "version": "3.8.3"
  }
 },
 "nbformat": 4,
 "nbformat_minor": 4
}
